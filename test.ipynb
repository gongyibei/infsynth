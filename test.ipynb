{
 "cells": [
  {
   "cell_type": "code",
   "execution_count": 1,
   "metadata": {},
   "outputs": [],
   "source": [
    "from infsynth import *\n",
    "import librosa.display\n",
    "import matplotlib.pyplot as plt"
   ]
  },
  {
   "cell_type": "code",
   "execution_count": 3,
   "metadata": {},
   "outputs": [
    {
     "data": {
      "text/plain": [
       "3.01"
      ]
     },
     "execution_count": 3,
     "metadata": {},
     "output_type": "execute_result"
    }
   ],
   "source": [
    "lead_env = ad([0.01, 0.1],[2, 0.01]) | dc(0, T=1)\n",
    "def lead(freq):\n",
    "    return lpf(saw(freq) * lead_env, 1000) * 0.1\n",
    "\n",
    "play(lead(440), 10)\n",
    "lead(440).T\n",
    "lead_env.T"
   ]
  },
  {
   "cell_type": "code",
   "execution_count": 4,
   "metadata": {},
   "outputs": [],
   "source": [
    "freq= ad([0.01, 0.5], [0.1, 0.1], T=2) * 50 + 60\n",
    "bd_env = ad([0.01, 0.5], [0.4, 0.1], T=2)\n",
    "\n",
    "bd = lpf(sin(freq)* bd_env, 100)\n",
    "bar1 = bd.imp('10101010')\n",
    "bar2 = bd.imp('111000')\n",
    "bar3 = bd.imp('10111101')\n",
    "play(bar1|bar2|bar3, 20)"
   ]
  },
  {
   "cell_type": "code",
   "execution_count": 81,
   "metadata": {},
   "outputs": [],
   "source": [
    "freq= ad([0.01, 0.1], [0.1, 0.1], T=2) * 50 + 60\n",
    "bd_env = ad([0.01, 0.5], [0.4, 0.1], T=2)\n",
    "lead_env = ad(T=2)\n",
    "bd = lpf(sin(freq)* bd_env, 100) \n",
    "lead = lpf(saw(50) * lead_env, 1000) * 0.1\n",
    "\n",
    "drum = imp(bd, '1111')\n",
    "melody = imp(lead, '1010 0010 1001 0010')\n",
    "song = drum + melody\n",
    "\n",
    "play(song, 10)"
   ]
  },
  {
   "cell_type": "code",
   "execution_count": 57,
   "metadata": {},
   "outputs": [
    {
     "ename": "TypeError",
     "evalue": "bad operand type for unary -: 'Analog'",
     "output_type": "error",
     "traceback": [
      "\u001b[0;31m---------------------------------------------------------------------------\u001b[0m",
      "\u001b[0;31mTypeError\u001b[0m                                 Traceback (most recent call last)",
      "Input \u001b[0;32mIn [57]\u001b[0m, in \u001b[0;36m<cell line: 1>\u001b[0;34m()\u001b[0m\n\u001b[0;32m----> 1\u001b[0m o \u001b[38;5;241m=\u001b[39m \u001b[38;5;241;43m-\u001b[39;49m\u001b[43msin\u001b[49m\u001b[43m(\u001b[49m\u001b[38;5;241;43m440\u001b[39;49m\u001b[43m)\u001b[49m\n",
      "\u001b[0;31mTypeError\u001b[0m: bad operand type for unary -: 'Analog'"
     ]
    }
   ],
   "source": [
    "o = -sin(440)"
   ]
  },
  {
   "cell_type": "code",
   "execution_count": 82,
   "metadata": {},
   "outputs": [],
   "source": [
    "play(sin(freq) * bd_env, 10)"
   ]
  },
  {
   "cell_type": "code",
   "execution_count": 77,
   "metadata": {},
   "outputs": [
    {
     "ename": "TypeError",
     "evalue": "attack() argument after * must be an iterable, not float",
     "output_type": "error",
     "traceback": [
      "\u001b[0;31m---------------------------------------------------------------------------\u001b[0m",
      "\u001b[0;31mTypeError\u001b[0m                                 Traceback (most recent call last)",
      "Input \u001b[0;32mIn [77]\u001b[0m, in \u001b[0;36m<cell line: 1>\u001b[0;34m()\u001b[0m\n\u001b[1;32m      1\u001b[0m lead_env \u001b[38;5;241m=\u001b[39m con(\n\u001b[0;32m----> 2\u001b[0m     [\u001b[43mad\u001b[49m\u001b[43m(\u001b[49m\u001b[38;5;241;43m0.01\u001b[39;49m\u001b[43m,\u001b[49m\u001b[43m \u001b[49m\u001b[38;5;241;43m0.2\u001b[39;49m\u001b[43m)\u001b[49m, dc(\u001b[38;5;241m0\u001b[39m)],\n\u001b[1;32m      3\u001b[0m     [\u001b[38;5;241m0.21\u001b[39m, \u001b[38;5;241m0.09\u001b[39m]\n\u001b[1;32m      4\u001b[0m )\n\u001b[1;32m      5\u001b[0m B \u001b[38;5;241m=\u001b[39m \u001b[38;5;124m'\u001b[39m\u001b[38;5;124mA-10\u001b[39m\u001b[38;5;124m'\u001b[39m\n\u001b[1;32m      6\u001b[0m notes \u001b[38;5;241m=\u001b[39m [\u001b[38;5;124m'\u001b[39m\u001b[38;5;124mG4\u001b[39m\u001b[38;5;124m'\u001b[39m, \u001b[38;5;124m'\u001b[39m\u001b[38;5;124mG4\u001b[39m\u001b[38;5;124m'\u001b[39m, \u001b[38;5;124m'\u001b[39m\u001b[38;5;124mA4\u001b[39m\u001b[38;5;124m'\u001b[39m, \u001b[38;5;124m'\u001b[39m\u001b[38;5;124mG4\u001b[39m\u001b[38;5;124m'\u001b[39m, \u001b[38;5;124m'\u001b[39m\u001b[38;5;124mC5\u001b[39m\u001b[38;5;124m'\u001b[39m, \u001b[38;5;124m'\u001b[39m\u001b[38;5;124mB4\u001b[39m\u001b[38;5;124m'\u001b[39m]\n",
      "File \u001b[0;32m/home/2T/Project/my/infsynth/infsynth/signal/env.py:61\u001b[0m, in \u001b[0;36mad\u001b[0;34m(a, d, T)\u001b[0m\n\u001b[1;32m     60\u001b[0m \u001b[38;5;28;01mdef\u001b[39;00m \u001b[38;5;21mad\u001b[39m(a\u001b[38;5;241m=\u001b[39m[\u001b[38;5;241m0.01\u001b[39m, \u001b[38;5;241m0.5\u001b[39m], d\u001b[38;5;241m=\u001b[39m[\u001b[38;5;241m0.1\u001b[39m, \u001b[38;5;241m0.5\u001b[39m], T\u001b[38;5;241m=\u001b[39m\u001b[38;5;28;01mNone\u001b[39;00m):\n\u001b[0;32m---> 61\u001b[0m     att \u001b[38;5;241m=\u001b[39m \u001b[43mattack\u001b[49m\u001b[43m(\u001b[49m\u001b[38;5;241;43m*\u001b[39;49m\u001b[43ma\u001b[49m\u001b[43m)\u001b[49m\n\u001b[1;32m     62\u001b[0m     dec \u001b[38;5;241m=\u001b[39m decay(\u001b[38;5;241m*\u001b[39md)\n\u001b[1;32m     63\u001b[0m     \u001b[38;5;28;01mif\u001b[39;00m T:\n",
      "\u001b[0;31mTypeError\u001b[0m: attack() argument after * must be an iterable, not float"
     ]
    }
   ],
   "source": [
    "lead_env = con(\n",
    "    [ad(0.01, 0.2), dc(0)],\n",
    "    [0.21, 0.09]\n",
    ")\n",
    "B = 'A-10'\n",
    "notes = ['G4', 'G4', 'A4', 'G4', 'C5', 'B4']\n",
    "L = [1, 1, 2, 2, 2, 2]\n",
    "notes = list(map(librosa.note_to_hz, notes))\n",
    "notes = list(map(float, notes))\n",
    "o = lpf(seq(sin, notes, L, T=0.3) * lead_env, 1000/fs)\n",
    "play(o, 10)"
   ]
  },
  {
   "cell_type": "code",
   "execution_count": 6,
   "metadata": {},
   "outputs": [],
   "source": [
    "from librosa import load\n",
    "ol = []\n",
    "for d in ['bd', 'ch', 'clap', 'ht', 'lt', 'oh', 'sd']:\n",
    "    o, fs = load(f'../../learn/glicol/js/assets/808{d}.wav')\n",
    "    o = sampler(o, fs)\n",
    "    o = o | dc(0, 2-o.T)\n",
    "    ol.append(o)\n",
    "\n",
    "bar1 = seq(ol, '1123 1023')\n",
    "bar2 = seq(ol, '111 000')\n",
    "bar3 = seq(ol, '1351 2513')\n",
    "bar4 = seq(ol, '111 000')\n",
    "o = freeze(bar1|bar2|bar3|bar4)\n",
    "play(o, 10)"
   ]
  },
  {
   "cell_type": "code",
   "execution_count": 63,
   "metadata": {},
   "outputs": [],
   "source": [
    "from librosa import note_to_hz\n",
    "def seq(analog_list, seq=None, on=None, off='-', rnd='?'):\n",
    "    if on is None:\n",
    "        assert len(analog_list) < 16\n",
    "        on = '123456789abcdef'[:len(analog_list)]\n",
    "    else:\n",
    "        assert len(analog_list) == len(on)\n",
    "\n",
    "    on = list(on)\n",
    "    all_sym = on + [off] + [rnd]\n",
    "    if seq is None:\n",
    "        seq = on\n",
    "    \n",
    "    O = dc(0)\n",
    "    seq = [s for s in seq if s in all_sym]\n",
    "    L = len(seq)\n",
    "    for i, s in enumerate(seq):\n",
    "        if s in on: \n",
    "            A = analog_list[on.index(s)]\n",
    "            O += A >> (i / L * A.T)\n",
    "        if s == rnd:\n",
    "            A = random.choice(analog_list)\n",
    "            O += A >> (i / L * A.T)\n",
    "    return O\n",
    "\n",
    "ol = []\n",
    "on = []\n",
    "for n in range(6):\n",
    "    for note in ['C', 'C#', 'D', 'D#', 'E', 'F', 'F#', 'G', 'G#', 'A', 'A#', 'B']:\n",
    "        note = note + str(n)\n",
    "        on.append(note)\n",
    "        o = squ(float(note_to_hz(note))) * ad([0.01, 0.1], [0.5, 0.1]) \n",
    "        o = lpf(o, 400)\n",
    "        o = o|dc(0, 1.5)\n",
    "        ol.append(o)\n",
    "\n",
    "bar1 = seq(ol, ['A4', 'E5', 'E5', '-', '-', 'A4'], on=on)\n",
    "bar2 = seq(ol, ['A4', 'D5', 'D5', '-', '-', 'A4'], on=on)\n",
    "bar3 = seq(ol, ['A4', 'E5', 'E5', 'G5', 'F#5', 'D5'], on=on)\n",
    "bar4 = seq(ol, ['E5', '-', '-', '-', '-', '-'], on=on)\n",
    "sec1 = bar1 | bar2 | bar3 | bar4\n",
    "\n",
    "bar1 = seq(ol, ['A4', 'E5', 'E5', '-', '-', 'A4'], on=on)\n",
    "bar2 = seq(ol, ['A4', 'D5', 'D5', '-', '-', '-'], on=on)\n",
    "bar3 = seq(ol, ['A4', 'B4', 'C5', 'E5', 'D5', 'B4'], on=on)\n",
    "bar4 = seq(ol, ['A4', 'G4', 'A4', '-', '-', '-'], on=on)\n",
    "sec2 = bar1 | bar2 | bar3 | bar4 \n",
    "\n",
    "play(sec1 | sec2, 30)\n",
    "# plot(sec1, 0.1)"
   ]
  },
  {
   "cell_type": "code",
   "execution_count": 67,
   "metadata": {},
   "outputs": [],
   "source": [
    "play(bar3)"
   ]
  },
  {
   "cell_type": "code",
   "execution_count": 8,
   "metadata": {},
   "outputs": [],
   "source": [
    "from librosa import load\n",
    "\n",
    "def t1():\n",
    "    bd, fs = load('../../learn/glicol/js/assets/808bd.wav')\n",
    "    bd = sampler(bd, fs)\n",
    "    bd = bd | dc(0, T=2 - bd.T)\n",
    "    bar1 = bd.imp('11')\n",
    "    bar2 = bd.imp('11')\n",
    "    return bar1|bar2\n",
    "\n",
    "def t2():\n",
    "    ch, fs = load('../../learn/glicol/js/assets/808ch.wav')\n",
    "    ch = sampler(ch, fs)\n",
    "    ch = ch | dc(0, T=2 - ch.T)\n",
    "    bar1 = ch.imp('01010101')\n",
    "    bar2 = ch.imp('01010101')\n",
    "    return bar1|bar2\n",
    "\n",
    "def t3():\n",
    "    sd, fs = load('../../learn/glicol/js/assets/808lt.wav')\n",
    "    sd = sampler(sd, fs)\n",
    "    sd = sd | dc(0, T=2 - sd.T)\n",
    "    bar1 = sd.imp('00100010')\n",
    "    bar2 = sd.imp('00100010')\n",
    "    return bar1|bar2\n",
    "\n",
    "\n",
    "play(t1() + t2() + t3(), 20)"
   ]
  },
  {
   "cell_type": "code",
   "execution_count": 90,
   "metadata": {},
   "outputs": [
    {
     "data": {
      "text/plain": [
       "<matplotlib.colorbar.Colorbar at 0x7f6228887c40>"
      ]
     },
     "execution_count": 90,
     "metadata": {},
     "output_type": "execute_result"
    },
    {
     "name": "stderr",
     "output_type": "stream",
     "text": [
      "ALSA lib pcm.c:8306:(snd_pcm_recover) underrun occurred\n"
     ]
    },
    {
     "data": {
      "image/png": "[encoded data removed]",
      "text/plain": [
       "<Figure size 432x288 with 2 Axes>"
      ]
     },
     "metadata": {
      "needs_background": "light"
     },
     "output_type": "display_data"
    }
   ],
   "source": [
    "D = librosa.stft(o(np.arange(0, 2, 1 / 44100)))  # STFT of y\n",
    "S_db = librosa.amplitude_to_db(np.abs(D), ref=np.max)\n",
    "plt.figure()\n",
    "librosa.display.specshow(S_db)\n",
    "plt.colorbar()"
   ]
  },
  {
   "cell_type": "code",
   "execution_count": null,
   "metadata": {},
   "outputs": [],
   "source": [
    "m = sin(np.pi) * sinm(np.e)\n",
    "plot(m, 100)"
   ]
  },
  {
   "cell_type": "code",
   "execution_count": null,
   "metadata": {},
   "outputs": [],
   "source": [
    "o = sin(1 * 5 + 440)\n",
    "o = 0.5 *o"
   ]
  },
  {
   "cell_type": "code",
   "execution_count": null,
   "metadata": {},
   "outputs": [],
   "source": [
    "env = adsr(attack_time=0, decay_time=0, sustain_time=0, release_time=0.5)\n",
    "o = sin(m * 20 + 150)\n",
    "play(o * env, 10)\n",
    "plot(o * env, 0.5)\n"
   ]
  },
  {
   "cell_type": "code",
   "execution_count": 58,
   "metadata": {},
   "outputs": [],
   "source": [
    "o = (sin(440) + (squ(440) << 0.01)) * adsr()\n",
    "play(basic_flanger(o, 0.2), 10)"
   ]
  },
  {
   "cell_type": "code",
   "execution_count": null,
   "metadata": {},
   "outputs": [],
   "source": [
    "plot(squ(440), 0.01)"
   ]
  },
  {
   "cell_type": "code",
   "execution_count": null,
   "metadata": {},
   "outputs": [],
   "source": [
    "env = adsr()\n",
    "f = float(librosa.note_to_hz('C4'))\n",
    "a = sin(f) * env\n",
    "# b = saw(librosa.note_to_hz('D#4')) * adsr\n",
    "# c = squ(librosa.note_to_hz('G4')) * adsr\n",
    "# d = sin(librosa.note_to_hz('B4')) * adsr\n",
    "\n",
    "# o = concat([a, b, c, d], [0.2, 0.2, 0.2, 0.2])\n",
    "play(a, 4)\n",
    "plot(a, 1)"
   ]
  },
  {
   "cell_type": "code",
   "execution_count": null,
   "metadata": {},
   "outputs": [],
   "source": [
    "type(f)"
   ]
  },
  {
   "cell_type": "code",
   "execution_count": null,
   "metadata": {},
   "outputs": [],
   "source": [
    "plot(o, 0.1)"
   ]
  },
  {
   "cell_type": "code",
   "execution_count": null,
   "metadata": {},
   "outputs": [],
   "source": [
    "a = Square(440)\n",
    "adsr = ADSR()\n",
    "m = SinMod(1)\n",
    "o = a * adsr\n",
    "play(o, 2)"
   ]
  },
  {
   "cell_type": "code",
   "execution_count": null,
   "metadata": {},
   "outputs": [],
   "source": [
    "plot(m1, 10)"
   ]
  },
  {
   "cell_type": "code",
   "execution_count": null,
   "metadata": {},
   "outputs": [],
   "source": [
    "S = sin\n",
    "a1 = S(int(librosa.note_to_hz('C4')))\n",
    "a2 = S(int(librosa.note_to_hz('E4')))\n",
    "a3 = S(int(librosa.note_to_hz('G4')))\n",
    "# a4 = S(librosa.note_to_hz('C4'))\n",
    "m1 = sawm(7)\n",
    "m2 = sawm(3)\n",
    "# m3 = SawMod(5/4)"
   ]
  },
  {
   "cell_type": "code",
   "execution_count": null,
   "metadata": {},
   "outputs": [],
   "source": [
    "o = (a1 + a2 + a3) * m1 * m2 * dc(1 / 4)\n",
    "plot(o << 0.5, t=12)\n",
    "play(o, t=12)\n",
    "\n",
    "# o1 = (a1 + a2 + a3 + a4) *m1 * m2 * DC(1)\n",
    "# play(o, t=3)"
   ]
  },
  {
   "cell_type": "code",
   "execution_count": null,
   "metadata": {},
   "outputs": [],
   "source": [
    "a = Sin(440)\n",
    "b = Sin(440)"
   ]
  },
  {
   "cell_type": "code",
   "execution_count": null,
   "metadata": {},
   "outputs": [],
   "source": [
    "o = a.conv(b) * DC(1 / 15000)\n"
   ]
  },
  {
   "cell_type": "code",
   "execution_count": null,
   "metadata": {},
   "outputs": [],
   "source": [
    "plot(o, t=0.1)\n",
    "# play(o)"
   ]
  },
  {
   "cell_type": "code",
   "execution_count": null,
   "metadata": {},
   "outputs": [],
   "source": [
    "import numpy as np"
   ]
  },
  {
   "cell_type": "code",
   "execution_count": null,
   "metadata": {},
   "outputs": [],
   "source": [
    "x = np.array([-1234, 234, 34123])\n",
    "np.piecewise(x, [x < 0, (x < 123512352) & (x > -12341)], [1, 0])\n"
   ]
  },
  {
   "cell_type": "code",
   "execution_count": null,
   "metadata": {},
   "outputs": [],
   "source": [
    "x = np.array([1, 2, 3])\n",
    "np.stack([x, x]).shape"
   ]
  },
  {
   "cell_type": "code",
   "execution_count": null,
   "metadata": {},
   "outputs": [],
   "source": [
    "from sympy import *"
   ]
  },
  {
   "cell_type": "code",
   "execution_count": null,
   "metadata": {},
   "outputs": [],
   "source": [
    "x, y = symbols('x y')\n",
    "expr = exp(x) * sin(x) + exp(x) * cos(x)\n"
   ]
  },
  {
   "cell_type": "code",
   "execution_count": null,
   "metadata": {},
   "outputs": [],
   "source": [
    "i_expr = integrate(expr, x)"
   ]
  },
  {
   "cell_type": "code",
   "execution_count": null,
   "metadata": {},
   "outputs": [],
   "source": [
    "i_expr.evalf(subs={x: 19})\n"
   ]
  },
  {
   "cell_type": "code",
   "execution_count": null,
   "metadata": {},
   "outputs": [],
   "source": [
    "np.concatenate"
   ]
  },
  {
   "cell_type": "code",
   "execution_count": null,
   "metadata": {},
   "outputs": [],
   "source": [
    "inf.sin(44)"
   ]
  },
  {
   "cell_type": "code",
   "execution_count": null,
   "metadata": {},
   "outputs": [],
   "source": [
    "op.concat"
   ]
  },
  {
   "cell_type": "code",
   "execution_count": null,
   "metadata": {},
   "outputs": [],
   "source": [
    "np.array"
   ]
  },
  {
   "cell_type": "code",
   "execution_count": null,
   "metadata": {},
   "outputs": [],
   "source": [
    "np.array([1, 2, 3]).astype"
   ]
  },
  {
   "cell_type": "code",
   "execution_count": null,
   "metadata": {},
   "outputs": [],
   "source": [
    "a = lambda x: x\n"
   ]
  },
  {
   "cell_type": "code",
   "execution_count": null,
   "metadata": {},
   "outputs": [],
   "source": [
    "np.array"
   ]
  },
  {
   "cell_type": "code",
   "execution_count": null,
   "metadata": {},
   "outputs": [],
   "source": [
    "scipy.signal.chri"
   ]
  },
  {
   "cell_type": "code",
   "execution_count": null,
   "metadata": {},
   "outputs": [],
   "source": [
    "object.__div__"
   ]
  },
  {
   "cell_type": "code",
   "execution_count": null,
   "metadata": {},
   "outputs": [],
   "source": [
    "arr1 = np.random.rand(100000000)\n",
    "arr2 = np.repeat(np.pi, 100000000)"
   ]
  },
  {
   "cell_type": "code",
   "execution_count": null,
   "metadata": {},
   "outputs": [],
   "source": [
    "import math"
   ]
  },
  {
   "cell_type": "code",
   "execution_count": null,
   "metadata": {},
   "outputs": [],
   "source": [
    "librosa.note_to_hz('C-10')"
   ]
  },
  {
   "cell_type": "code",
   "execution_count": 9,
   "metadata": {},
   "outputs": [
    {
     "data": {
      "text/plain": [
       "27.5"
      ]
     },
     "execution_count": 9,
     "metadata": {},
     "output_type": "execute_result"
    }
   ],
   "source": [
    "note_to_hz('A')"
   ]
  }
 ],
 "metadata": {
  "interpreter": {
   "hash": "5faea8e2824883106acc142995927553bf8ce4ba7795a38307a91c59c1326a7b"
  },
  "kernelspec": {
   "display_name": "Python 3.8.0 64-bit ('synth': conda)",
   "language": "python",
   "name": "python3"
  },
  "language_info": {
   "codemirror_mode": {
    "name": "ipython",
    "version": 3
   },
   "file_extension": ".py",
   "mimetype": "text/x-python",
   "name": "python",
   "nbconvert_exporter": "python",
   "pygments_lexer": "ipython3",
   "version": "3.8.0"
  },
  "orig_nbformat": 4
 },
 "nbformat": 4,
 "nbformat_minor": 2
}
